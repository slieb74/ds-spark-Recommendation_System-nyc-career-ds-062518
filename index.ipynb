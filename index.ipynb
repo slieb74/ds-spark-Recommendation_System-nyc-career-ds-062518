{
 "cells": [
  {
   "cell_type": "markdown",
   "metadata": {},
   "source": [
    "# Building a Recommendation System with Collaborative Filtering (ALS)\n",
    "---\n",
    "# Stage 1: Data Collection and Pre-processing"
   ]
  },
  {
   "cell_type": "markdown",
   "metadata": {},
   "source": [
    "\n",
    "## Objectives:\n",
    "* Demonsrate an understanding on how recommendation systems are being used for personalization of online services/products.\n",
    "* Parse and filter datasets into Spark RDDs, performing basic feature selection. \n",
    "* Run a hyper-parameter selction activity through a scalable grid search. \n",
    "* Train and evaluate the predictive performance of recommendation system.\n",
    "* Generate predictions from the trained model."
   ]
  },
  {
   "cell_type": "markdown",
   "metadata": {},
   "source": [
    "\n",
    "\n",
    "![](https://cdn-images-1.medium.com/max/800/1*Zvwzw_KPRv5bcXPkb6WubA.jpeg)\n",
    "\n",
    "## Introduction\n",
    "\n",
    "Recommender/Recommendation Systems are one of the most successful applications of machine learning in the Big Data domain. Such systems are integral parts in the success of Amazon (Books, Items), Pandora/Spotify (Music), Google (News, Search), YouTube (Videos) etc.  For Amazon these systems bring more than 30% of their total revenues. For Netflix service, 75% of movies that people watch are based on some sort of recommendation.\n",
    "\n",
    "> The goal of Recommendation Systems is to find what is likely to be of interest to the user. This enables organizations to offer a high level of personalization and customer tailored services.\n",
    "\n",
    "\n",
    "\n",
    "For online video content services like Netflix and Hulu, the need to build robust movie recommendation systems is extremely important. An example of recommendation system is such as this:\n",
    "\n",
    "    User A watches Game of Thrones and Breaking Bad.\n",
    "    User B performs a search query for Game of Thrones.\n",
    "    The system suggests Breaking Bad to user B from data collected about user A.\n",
    "    \n",
    "\n",
    "\n",
    "This lab will guide you through a step-by-step process into developing such a movie recommendation system. We shall use the MovieLens dataset to build a movie recommendation system using collaborative filtering technique with Spark's Alternating Least Saqures implementation."
   ]
  },
  {
   "cell_type": "markdown",
   "metadata": {},
   "source": [
    "## MovieLens Ratings Dataset\n",
    "\n",
    "Social computing research centre at university of Minnesota, [GroupLens Research](https://grouplens.org/),  has developed a movie ratings dataset called the [MovieLens](http://movielens.org/). The datasets were collected over various periods of time and can be directly downloaded from [this location](http://grouplens.org/datasets/movielens/). \n",
    "\n",
    "A data dictionary with details on individual datasets and included features can be viewed [HERE](http://files.grouplens.org/datasets/movielens/ml-20m-README.html)\n",
    "\n",
    "For our experiment , we shall download the latest datasets direct from the website in the zip format. Grouplens offer the complete ratings dataset and a small subset for experimentation. We shall down both these datasets for building our recommendation system. \n",
    "\n",
    "* **Small Dataset**: 100,000 ratings applied to 9,000 movies by 700 users. Last updated 10/2016.\n",
    "\n",
    "* **Complete Dataset**: 26,000,000 ratings applied to 45,000 movies by 270,000 users. Last updated 8/2017.\n",
    "\n",
    "\n",
    "For this lab, we will use the small dataset `ms-latest-small.zip` which can be downloaded from the above location. The main reason for using this dataset is to speed up computation and focus more on the pyspark programming. \n",
    "\n",
    "* Create a folder `datasets` on your machine at a location which is accessible by pyspark. \n",
    "* Unzip the contents of downloaded zip file into `datasets` directory. \n",
    "* You may also download the complete dataset `ml-latest.zip` and save it at this location for later experimentation."
   ]
  },
  {
   "cell_type": "markdown",
   "metadata": {},
   "source": [
    "Above actions will generate following file and directory structure:\n",
    "\n",
    "![](path.png)"
   ]
  },
  {
   "cell_type": "markdown",
   "metadata": {},
   "source": [
    "Let's also import PySpark to our Python environment and and initiate a local SparkContext `sc`."
   ]
  },
  {
   "cell_type": "code",
   "execution_count": 1,
   "metadata": {},
   "outputs": [],
   "source": [
    "import pyspark\n",
    "sc = pyspark.SparkContext('local[*]') # [*] represents a local context i.e. no cluster"
   ]
  },
  {
   "cell_type": "markdown",
   "metadata": {},
   "source": [
    "# Stage 1: Dataset Parsing, Selection and Filtering"
   ]
  },
  {
   "cell_type": "markdown",
   "metadata": {},
   "source": [
    "With our SparkContext initialized, and our dataset in an accessible locations, we can now parse the csv files and read them into RDDs as shown in the previous labs. The small dataset contains a number of csv file with features as shown below:  \n",
    "\n",
    "> #### ratings.csv :**UserID, MovieID, Rating, Timestamp**\n",
    "\n",
    "> #### movies.csv :**MovieID, Title, Genres > *Genre1|Genre2|Genre3...**\n",
    "\n",
    "> #### tags.csv :**UserID, MovieID, Tag, Timestamp**\n",
    "\n",
    "> #### links.csv :**MovieID, ImdbID, TmdbID**\n",
    "\n",
    "The complete dataset contains some other files as well. We shall focus on `ratings.csv`, and `movies.csv` from small dataset here for building a basic recommendation system. Other features can be incorporated later for improving the predictive performance of the system.  The format of these files is uniform and simple and such comma delimited files can be easily parsed line by line using Python `split()` once they are loaded as RDDs. \n",
    "\n",
    "We shall first parse `ratings.csv` and `movies.csv` files into two RDDs. We also need to filter out the header row in each file containing column names. \n",
    "\n",
    "> **For each line in the `ratings.csv`, create a tuple of (UserID, MovieID, Rating). Drop the Timestamp feature. **\n",
    "\n",
    "> **For each line in the `movies.csv`, Create a tuple of (MovieID, Title). Drop the Genres. **"
   ]
  },
  {
   "cell_type": "markdown",
   "metadata": {},
   "source": [
    "Set path variables for `ratings` and `movies` files. "
   ]
  },
  {
   "cell_type": "code",
   "execution_count": 2,
   "metadata": {},
   "outputs": [],
   "source": [
    "# Create a path for identifying the ratings and movies files in small dataset\n",
    "ratingsPath = 'datasets/ml-latest-small/ratings.csv'\n",
    "moviesPath = 'datasets/ml-latest-small/movies.csv'"
   ]
  },
  {
   "cell_type": "markdown",
   "metadata": {},
   "source": [
    "### Parsing `ratings.csv`\n",
    "\n",
    "Read the contents of ratings file into an RDD and view its first row as header"
   ]
  },
  {
   "cell_type": "code",
   "execution_count": 3,
   "metadata": {},
   "outputs": [],
   "source": [
    "# Use .textFile() to read the raw contents of ratings file into an RDD\n",
    "# read the first line of this RDD as a header and view header contents\n",
    "\n",
    "ratingsRaw = None\n",
    "ratingsHeader = None\n",
    "ratingsHeader\n",
    "\n",
    "# 'userId,movieId,rating,timestamp'"
   ]
  },
  {
   "cell_type": "markdown",
   "metadata": {},
   "source": [
    "We need to filter some of the data at this stage. We can drop the timestamp feature, parse the raw data into a new RDD and filter out the header row. Perform following transformations on `ratingsRaw`:\n",
    "\n",
    "1. Read `ratingsRaw` contents into a new RDD while using `.filter()` to exclude the header information.\n",
    "2. Split each line of the csv file using `,` as the input argument with `split()` function.\n",
    "3. Collect the first three elements of each row (UserID, MovieID, Rating) and discard timestep field.\n",
    "4. Cache the final RDD (Optional) using `RDD.cache()` (may help speed up computation with large RDDs).\n",
    "5. Print the total number of recommendations and view first three rows."
   ]
  },
  {
   "cell_type": "code",
   "execution_count": 4,
   "metadata": {},
   "outputs": [],
   "source": [
    "ratingsNoHeader= None\n",
    "ratingsSplit = None\n",
    "ratingsRDD = None\n",
    "\n",
    "\n",
    "# There are 100004 recommendations in the  dataset\n",
    "# [(1, 31, 2.5), (1, 1029, 3.0), (1, 1061, 3.0)]"
   ]
  },
  {
   "cell_type": "markdown",
   "metadata": {},
   "source": [
    "This looks well in-line with our expectations. Let's do the same for `movies.csv`.\n",
    "\n",
    "### Parsing `movies.csv`\n",
    "\n",
    "We shall now proceed in a similar way with `movies.csv` file. Repeat following steps as performed above:\n",
    "\n",
    "1. Use the path variable for identifying the location of **movies.csv**.\n",
    "2. Read the text file into RDD.\n",
    "3. Exclude the header information.\n",
    "4. Split the line contents of the csv file.\n",
    "5. Read the contents of resulting RDD creating a (MovieID, Title) tuple and discard genres. \n",
    "6. Count number of movies in the final RDD."
   ]
  },
  {
   "cell_type": "code",
   "execution_count": 5,
   "metadata": {},
   "outputs": [],
   "source": [
    "moviesRaw = None\n",
    "moviesHeader = None\n",
    "moviesRDD = None\n",
    "\n",
    "\n",
    "# There are 9125 movies in the complete dataset"
   ]
  },
  {
   "cell_type": "markdown",
   "metadata": {},
   "source": [
    "We now have the two RDDs we created above and we shall use these to build and train our recommendation system. \n",
    "\n",
    "### Saving Pre-Processed Data (optional)\n",
    "\n",
    "We can optionally save our preprocessed datasets. Create a folder \"processed\" and save `movieRDD` and `ratingsRDD` using `RDD.saveAsTExtFile(filename)`. "
   ]
  },
  {
   "cell_type": "code",
   "execution_count": 6,
   "metadata": {},
   "outputs": [
    {
     "ename": "FileExistsError",
     "evalue": "[Errno 17] File exists: 'processed'",
     "output_type": "error",
     "traceback": [
      "\u001b[0;31m---------------------------------------------------------------------------\u001b[0m",
      "\u001b[0;31mFileExistsError\u001b[0m                           Traceback (most recent call last)",
      "\u001b[0;32m<ipython-input-6-8ed896521225>\u001b[0m in \u001b[0;36m<module>\u001b[0;34m()\u001b[0m\n\u001b[1;32m      3\u001b[0m \u001b[0;34m\u001b[0m\u001b[0m\n\u001b[1;32m      4\u001b[0m \u001b[0mprocessedPath\u001b[0m \u001b[0;34m=\u001b[0m \u001b[0;34m'processed'\u001b[0m\u001b[0;34m\u001b[0m\u001b[0m\n\u001b[0;32m----> 5\u001b[0;31m \u001b[0mos\u001b[0m\u001b[0;34m.\u001b[0m\u001b[0mmkdir\u001b[0m\u001b[0;34m(\u001b[0m\u001b[0mprocessedPath\u001b[0m\u001b[0;34m)\u001b[0m\u001b[0;34m\u001b[0m\u001b[0m\n\u001b[0m\u001b[1;32m      6\u001b[0m \u001b[0;34m\u001b[0m\u001b[0m\n\u001b[1;32m      7\u001b[0m \u001b[0msmallMoviesRDD\u001b[0m\u001b[0;34m.\u001b[0m\u001b[0msaveAsTextFile\u001b[0m\u001b[0;34m(\u001b[0m\u001b[0mos\u001b[0m\u001b[0;34m.\u001b[0m\u001b[0mpath\u001b[0m\u001b[0;34m.\u001b[0m\u001b[0mjoin\u001b[0m\u001b[0;34m(\u001b[0m\u001b[0mprocessedPath\u001b[0m\u001b[0;34m,\u001b[0m \u001b[0;34m'moviesRDD'\u001b[0m\u001b[0;34m)\u001b[0m\u001b[0;34m)\u001b[0m\u001b[0;34m\u001b[0m\u001b[0m\n",
      "\u001b[0;31mFileExistsError\u001b[0m: [Errno 17] File exists: 'processed'"
     ]
    }
   ],
   "source": [
    "# Create a directory \"processed\" and store the preprocessed dataset RDDs as text files using .saveAsTExtFiles() method. \n",
    "import os \n",
    "\n",
    "processedPath = 'processed'\n",
    "os.mkdir(processedPath)\n",
    "\n",
    "smallMoviesRDD.saveAsTextFile(os.path.join(processedPath, 'moviesRDD'))\n",
    "smallRatingsRDD.saveAsTextFile(os.path.join(processedPath, 'ratingsRDD'))"
   ]
  },
  {
   "cell_type": "markdown",
   "metadata": {},
   "source": [
    "---\n",
    "# Stage 2: Alternate Least Squares: Model Training and Evaluation"
   ]
  },
  {
   "cell_type": "markdown",
   "metadata": {},
   "source": [
    "### Splitting the Data as Testing , Training and Validation Sets. \n",
    "\n",
    "We can now go ahead and split the data for building our recommendation system. We can use spark's `randomsplit()` transformation that uses given weights to split an rdd into any number of sub-RDDs. The standared usage of this transformation function is :\n",
    "\n",
    "> `RDD.randomSplit(weights, seed)`\n",
    "\n",
    "**weights** – weights for splits, will be normalized if they don’t sum to 1\n",
    "\n",
    "**seed** – random seed\n",
    "\n",
    "Let's split the `ratingsRDD` into training, testing and validation RDDs (60%, 20%, 20%) using respective weights.\n",
    "Perform a `.count` on resulting datasets to view the count of elements of each RDD. "
   ]
  },
  {
   "cell_type": "code",
   "execution_count": null,
   "metadata": {},
   "outputs": [],
   "source": [
    "# Split ratingsRDD into training, validation and testing RDDs as 60/20/20\n",
    "# Set seed to 100 for reproducibility\n",
    "# Show the count of each RDD\n",
    "\n",
    "\n",
    "# trainRDD, validRDD, testRDD = None\n",
    "\n",
    "\n",
    "\n",
    "# (60050, 19904, 20050)"
   ]
  },
  {
   "cell_type": "markdown",
   "metadata": {},
   "source": [
    "For prediction of ratings, we would need `customerID` and `movieID` from validation and test RDDs respectively. Let's map these values into two new RDDs which will be used for training and validation purpose. We shall ignore the `ratings` values for these RDDs, as these will be predicted later.  Take 3 elements from both RDDs to inspect the results."
   ]
  },
  {
   "cell_type": "code",
   "execution_count": null,
   "metadata": {},
   "outputs": [],
   "source": [
    "# Read customer ID and movie ID from validation and test sets. DO NOT show ground truth (ratings) to the model \n",
    "\n",
    "validFeaturesRDD = None\n",
    "testFeaturesRDD = None\n",
    "\n",
    "\n",
    "\n",
    "# Validation Features: [(1, 1263), (1, 1343), (1, 1405)]\n",
    "# Test Features: [(1, 1129), (1, 2294), (1, 2968)]"
   ]
  },
  {
   "cell_type": "markdown",
   "metadata": {},
   "source": [
    "We will use the `validFeaturesRDD` during the training process to avoid the model from overfitting / getting stuck into a local minima and the `testFeaturesRDD` with trained model to measure its predictive performance. "
   ]
  },
  {
   "cell_type": "markdown",
   "metadata": {},
   "source": [
    "## Collaborative Filtering\n",
    "\n",
    "Collaborative filtering allows us to make predictions **(filtering)** about the interests of a user by collecting preferences or taste information from many users **(collaborating)**. \n",
    "\n",
    "The key idea is that if a user A has the same opinion as a user B on an issue/object, A is more likely to have a similar opinion as user B on a different issue, than to have s opinion similar to that of a user chosen randomly. \n",
    "\n",
    "Following image shows an example of collaborative filtering. Initially, people rate different items (songs, videos, images, games), followed by the system making predictions about a user's rating for an item that he has not not rated yet. The new predictions are built upon the existing ratings of other users with similar ratings with the active user. \n",
    "![](https://slideplayer.com/slide/5692490/18/images/7/Collaborative+Filtering.jpg)\n",
    "\n",
    "\n",
    "Spark MLlib library for Machine Learning provides a Collaborative Filtering implementation by using Alternating Least Squares (ALS) algorithm."
   ]
  },
  {
   "cell_type": "markdown",
   "metadata": {},
   "source": [
    "## Alternate Least Squares in Spark\n",
    "\n",
    "Collaborative filtering is commonly used for recommender systems. This algorithm aims to fill in the missing entries of a user-item association matrix as shown in the figure above. `spark.mllib` currently supports model-based collaborative filtering, in which users and products are described by a small set of latent factors that can be used to predict missing entries. `spark.mllib` uses the alternating least squares (ALS) algorithm to learn these latent factors. \n",
    "\n",
    "\n",
    "We shall work with following hyper-parameters and set their values prior to the actual training process:\n",
    "\n",
    "* `rank` : Number of hidden/latent factors in the model. **(use the list [2,4,6,8,10] as rank values)**\n",
    "* `iterations` : Number of iterations to run. **(initially set to 10)**\n",
    "* `lambda` :  Regularization parameter in ALS.**(set to 0.1)**\n",
    "\n",
    "Spark offers a lot of other parameters for detailed and indepth fine tuning of the algorithm. Details on spark's ALS implementation can be viewed [HERE](https://spark.apache.org/docs/2.2.0/mllib-collaborative-filtering.html). For now, we will use default values for all the other hyper parameters. \n",
    "\n",
    "Let's import the ALS algorithm rom spark's machine learning library `mllib` and set parameters shown above. For this experiment, we shall use `iterations = 10`, `lambda = 0.1` and run a grid for identifying best value for `rank`. We need to import ALS from `mllib` along with `math` module (for calculating `RMSE`) and set our learning parameters. \n",
    "\n",
    "> **Note**: You may decide to run a larger grid with other model parameters after setting up the codebase."
   ]
  },
  {
   "cell_type": "code",
   "execution_count": null,
   "metadata": {},
   "outputs": [],
   "source": [
    "# Import ALS from spark's mllib\n",
    "from pyspark.mllib.recommendation import ALS\n",
    "import math\n",
    "\n",
    "# set learning parameters \n",
    "seed = 500\n",
    "numIterations = 10\n",
    "lambdaRegParam = 0.1\n",
    "ranksVal = [2, 4, 6, 8, 10]\n",
    "errVal = [0, 0, 0, 0, 0] # initialize a matrix for storing error values for selected ranks\n",
    "errIter = 0 # iterator for above list \n",
    "\n",
    "# Set training parameters\n",
    "minError = float('inf')\n",
    "bestRank = -1 \n",
    "bestIteration = -1"
   ]
  },
  {
   "cell_type": "markdown",
   "metadata": {},
   "source": [
    "### Model Training and Validation for hyper-parameter optimization\n",
    "\n",
    "We can now start our training process using above parameter values which would include following steps: \n",
    "\n",
    "* Run the training for each of the rank values in our `ranks` list inside a for loop.\n",
    "* Train the model using trainRDD, ranksVal, seed, numIterations and lambdaRegParam value as model parameters. \n",
    "* Validate the trained model by predicting ratings for `validFeaturesRDD` using `ALS.predictAll()`.\n",
    "* Compare predicted ratings to actual ratings by joining generated predictions with `validRDD`. \n",
    "* Calculate error as RMSE for each rank. \n",
    "* Find the best rank value based on RMSE\n",
    "\n",
    "For sake of simplicity, we shall repeat training process for changing ranks value **only**. Other values can also be changed as a detailed grid search for improved predictive performance. "
   ]
  },
  {
   "cell_type": "code",
   "execution_count": null,
   "metadata": {},
   "outputs": [],
   "source": [
    "# Run ALS for all values in ranks\n",
    "for rank in ranksVal:\n",
    "    \n",
    "    # Train the model using trainRDD, rank, seed, iterations and lambda value as model parameters\n",
    "    movieRecModel = None\n",
    "    # Use the trained model to predict the ratings from validPredictionRDD using model.predictAll()\n",
    "    predictions = None\n",
    "\n",
    "    # Compare predicted ratings and actual ratings in validRDD\n",
    "    validPlusPreds = None\n",
    "    \n",
    "    # Calculate RMSE error for the difference between ratings and predictions\n",
    "    error = None\n",
    "    \n",
    "    # save error into errors array\n",
    "\n",
    "    \n",
    "    # print ('For Rank = %s , the RMSE value is: %s' % (r, error))\n",
    "    \n",
    "    # Check for best error and rank values\n",
    "\n",
    "# print ('The best model was trained with Rank = %s' % bestRank)\n",
    "\n",
    "# For the selected rank: 2 , the RMSE is: 0.9492876773915179\n",
    "# For the selected rank: 4 , the RMSE is: 0.94553209880163\n",
    "# For the selected rank: 6 , the RMSE is: 0.9491943433112304\n",
    "# For the selected rank: 8 , the RMSE is: 0.9512400007129131\n",
    "# For the selected rank: 10 , the RMSE is: 0.9563593454968813\n",
    "# The best model was trained with rank value = 4"
   ]
  },
  {
   "cell_type": "markdown",
   "metadata": {},
   "source": [
    "### Analyzing the Predictions\n",
    "\n",
    "Let's have a look at the format of predictions the model generated during last validation stage. "
   ]
  },
  {
   "cell_type": "code",
   "execution_count": null,
   "metadata": {},
   "outputs": [],
   "source": [
    "# take 3 elements from the predictions RDD\n",
    "\n",
    "\n",
    "# [((580, 1084), 3.492776257690668),\n",
    "#  ((302, 1084), 3.078629750519478),\n",
    "#  ((514, 1084), 3.985426769882686)]"
   ]
  },
  {
   "cell_type": "markdown",
   "metadata": {},
   "source": [
    "The output shows we have the `((UserID,  MovieID), Rating)` tuple, similar to the ratings dataset. The `Ratings` field in the predictions RDD refers to the ratings predicted by the trained ALS model. \n",
    "\n",
    "Then we join these predictions with our validation data and the result looks as follows:"
   ]
  },
  {
   "cell_type": "code",
   "execution_count": null,
   "metadata": {},
   "outputs": [],
   "source": [
    "# take 3 elements from the validPlusPreds\n",
    "\n",
    "\n",
    "# [((1, 1405), (1.0, 2.7839431097640492)),\n",
    "#  ((2, 296), (4.0, 3.9729953606585244)),\n",
    "#  ((2, 616), (3.0, 3.128218990007167))]"
   ]
  },
  {
   "cell_type": "markdown",
   "metadata": {},
   "source": [
    "This output shows the format `((UserId, MovieId), Ratings, PredictedRatings)`. \n",
    "\n",
    "We then calculated the RMSE by taking the squred difference and calculating the mean value as our `error` value.\n",
    "\n",
    "### Testing the Model\n",
    "\n",
    "We shall now test the model with test dataset hich has been kept away from the learning phase upto this point. \n",
    "Use following parameters:\n",
    "* Use `trainRDD` for training the model.\n",
    "* Use `bestRank` value learnt during the validation phase.\n",
    "* Use other parameter values same as above. \n",
    "* Generate predictions with `testFeaturesRDD`\n",
    "* Calculate error between predicted values and ground truth as above."
   ]
  },
  {
   "cell_type": "code",
   "execution_count": null,
   "metadata": {},
   "outputs": [],
   "source": [
    "# Train and test the model with selected parameter bestRank\n",
    "\n",
    "movieRecModel = None\n",
    "\n",
    "# Calculate predictions for testPredictionRDD\n",
    "\n",
    "# Combine real ratings and predictions\n",
    "\n",
    "# Calculate RMSE\n",
    "\n",
    "    \n",
    "\n",
    "# For testing data the RMSE is 0.9498348141480232"
   ]
  },
  {
   "cell_type": "markdown",
   "metadata": {},
   "source": [
    "Due to probablistic nature of ALS algorithm, changing the seed value will also show somen fluctuations in RMSE. "
   ]
  },
  {
   "cell_type": "markdown",
   "metadata": {},
   "source": [
    "\n",
    "---\n",
    "# Stage 3: Making Recommendations\n",
    "\n",
    "With collaborative filtering, generating new recommendations is not as straightforward as predicting new entries using a previously generated model as shown above. For collaborative filtering, we have to re-train the model including the new user preferences in order to compare them with other users in the dataset. In simple terms, the system needs to be trained every time we have new user ratings. \n",
    "\n",
    "Once we have our model trained, we can reuse it to obtain top recomendations for a given user or an individual rating for a particular movie. "
   ]
  },
  {
   "cell_type": "markdown",
   "metadata": {},
   "source": [
    "First we need to count the number of ratings per movie. We can create a function that inputs the movies RDD created earlier  and calculates total number of ratings. Based on this, we can later define a threshold ratings value to only include movies with a minimum count of ratings. \n",
    "\n",
    "Create a function `getRatingCount()` to do following:\n",
    "\n",
    "* Input the ratings RDD (grouped by movies)\n",
    "* Count the total number of rating for a given movie ID\n",
    "* Return the movie id and total number of ratings as a tuple. \n",
    "\n",
    "\n",
    "Perform following tasks in the given sequence: \n",
    "\n",
    "* Use `ratingsRDD` to get movie ID and ratings values, and `groupby()` movie ID to group all ratings for each movie\n",
    "* Pass the new RDD to the function above to count the number of ratings for all movies\n",
    "* create a new RDD `movieRatingsCountsRDD` to carry movie rating and count as a tuple\n",
    "* take 5 elements for inspection\n"
   ]
  },
  {
   "cell_type": "code",
   "execution_count": null,
   "metadata": {},
   "outputs": [],
   "source": [
    "def getRatingCount(IDRatings):\n",
    "    \n",
    "    return None\n",
    "\n",
    "movieRatingCountsRDD = None\n",
    "\n",
    "\n",
    "# [(1172, 46), (2150, 36), (2294, 53), (2968, 43), (10, 122)]"
   ]
  },
  {
   "cell_type": "markdown",
   "metadata": {},
   "source": [
    "### Adding New User(s) and Rating(s)\n",
    "\n",
    "In order to make recommendations, we now need to create a new user and generate some initial set of ratings for collaborative filtering to work. First let's create a new user with a unique id , say 0, as its not currently used and would be easily identifiable later. \n",
    "\n"
   ]
  },
  {
   "cell_type": "code",
   "execution_count": null,
   "metadata": {},
   "outputs": [],
   "source": [
    "newUserID = 0"
   ]
  },
  {
   "cell_type": "markdown",
   "metadata": {},
   "source": [
    "Now we need to rate some movies under this user. You are encouraged to look into movies RDD to set some ratings for the movies based on your own preferences. That would give you a good chance to qualitatively assess the the outcome for this system. \n",
    "\n",
    "For this experiment, lets create some rating values for our new user who likes comedy, family and romantic movies. You can add or omit other ratings too. \n",
    "\n",
    "    18\t    Four Rooms (1995)\tComedy\n",
    "    60074\tHancock (2008)\tAction|Adventure|Comedy|Crime|Fantasy\n",
    "    19\t    Ace Ventura: When Nature Calls (1995)\tComedy\n",
    "    203\t    To Wong Foo, Thanks for Everything! Julie Newmar (1995)\tComedy\n",
    "    205\t    Unstrung Heroes (1995)\tComedy|Drama\n",
    "    8784\tGarden State (2004)\tComedy|Drama|Romance\n",
    "    55830\tBe Kind Rewind (2008)\tComedy\n",
    "    56176\tAlvin and the Chipmunks (2007)\tChildren|Comedy\n",
    "    63393\tCamp Rock (2008)\tComedy|Musical|Romance\n",
    "    64622\tReader, The (2008)\tDrama|Romance\n",
    "    65088\tBedtime Stories (2008)\tAdventure|Children|Comedy\n",
    "    78499\tToy Story 3 (2010)\tAdventure|Animation|Children|Comedy|Fantasy|IMAX\n",
    "\n",
    "We will put these ratings in a new RDD use the user ID = -1 to create a (userID, movieID, rating) tuple.\n"
   ]
  },
  {
   "cell_type": "code",
   "execution_count": null,
   "metadata": {
    "scrolled": true
   },
   "outputs": [],
   "source": [
    "# Based on above, create an RDD containing (userID, movieID, rating) tuple\n",
    "newUserRating = None\n",
    "newUserRDD = None"
   ]
  },
  {
   "cell_type": "markdown",
   "metadata": {},
   "source": [
    "Let's quickly check the contents of the newUserRDD to see if it meets our expectations."
   ]
  },
  {
   "cell_type": "code",
   "execution_count": null,
   "metadata": {},
   "outputs": [],
   "source": [
    "# [(0, 18, 4),\n",
    "#  (0, 60074, 5),\n",
    "#  (0, 19, 4),\n",
    "#  (0, 203, 3),\n",
    "#  (0, 205, 4),\n",
    "#  (0, 8784, 5),\n",
    "#  (0, 55830, 3),\n",
    "#  (0, 63393, 4),\n",
    "#  (0, 64622, 5),\n",
    "#  (0, 78499, 5)]\n"
   ]
  },
  {
   "cell_type": "markdown",
   "metadata": {},
   "source": [
    "This looks great. We can now combine the `newUserRDD` with `moviesRDD` using a `.union()` transformation to make it a part of MovieLense dataset. Its always a good idea to check the results with `.take()`. "
   ]
  },
  {
   "cell_type": "code",
   "execution_count": null,
   "metadata": {},
   "outputs": [],
   "source": [
    "dataWithNewUser = None\n"
   ]
  },
  {
   "cell_type": "markdown",
   "metadata": {},
   "source": [
    "Now we can train the ALS model again, using all the parameters we selected before)."
   ]
  },
  {
   "cell_type": "code",
   "execution_count": null,
   "metadata": {},
   "outputs": [],
   "source": [
    "# Train the model with `dataWithNewRating` and parameters used earlier.\n",
    "newRatingsModel  = None"
   ]
  },
  {
   "cell_type": "markdown",
   "metadata": {},
   "source": [
    "We shall need to repeat that every time a user adds new ratings. Ideally we will do this in batches, and not for every single rating that comes into the system for every user."
   ]
  },
  {
   "cell_type": "markdown",
   "metadata": {},
   "source": [
    "### Getting Top Recomendations\n",
    "\n",
    "After traning the model with our new user and ratings, we can finally get some recommendations. For that we will make an RDD with all the movies the new user hasn't rated yet.\n",
    "\n",
    "For this stage, perform following transformations:\n",
    "* Create a `moviesTitles` RDD with tuples as (id, title) from `moviesRDD`. Confirm the output.\n",
    "* Make an RDD to just the IDs of the movies rated by the new user above in `newUserRating`. \n",
    "* Filter the `moviesRDD` into a new RDD `newUserUnratedRDD` to only contain those movies not rated by the user.\n",
    "* Use `newUserUnratedRDD` and predict the ratings."
   ]
  },
  {
   "cell_type": "code",
   "execution_count": null,
   "metadata": {},
   "outputs": [],
   "source": [
    "# Create a movieTitles RDD with (movie,title) tuple\n",
    "moviesTitles = None\n",
    "\n",
    "\n",
    "# [(1, 'Toy Story (1995)'),\n",
    "#  (2, 'Jumanji (1995)'),\n",
    "#  (3, 'Grumpier Old Men (1995)')]"
   ]
  },
  {
   "cell_type": "code",
   "execution_count": null,
   "metadata": {},
   "outputs": [],
   "source": [
    "# Get just movie IDs for new user rated movies\n",
    "newUserRatingsIds = None\n",
    "\n",
    "# Filter out complete movies RDD \n",
    "newUserUnratedRDD = None\n",
    "\n",
    "# Use the input RDD, new_user_unrated_movies_RDD, with new_ratings_model.predictAll() to predict new ratings for the movies\n",
    "newRecRDD = None\n",
    "\n",
    "# [Rating(user=0, product=1084, rating=3.5312425479995),\n",
    "#  Rating(user=0, product=7942, rating=3.598790878082731),\n",
    "#  Rating(user=0, product=6400, rating=3.1097929195008023)]"
   ]
  },
  {
   "cell_type": "markdown",
   "metadata": {},
   "source": [
    "This new recommendation RDD `newRecRDD` now carries the predicted recommendations for new user. Now we can now look at top x number of movies with the highest predicted ratings and join these with the movies RDD to get the titles, and ratings count to make the results more meaningful. \n",
    "\n",
    "For this you need to perform following tasks:\n",
    "\n",
    "* Map `newRecRDD` to build a (movie, ratings) tuple for each entry as `newRecRatingRDD`\n",
    "* Use `.join()` transformation sequentially to to join `newRecRatingRDD` to `moviesTitles` and to `movieRatingsCountsRDD` to create \n",
    "\n",
    "A good resource on PySpark `.join()` is available at [THIS](http://www.learnbymarketing.com/1100/pyspark-joins-by-example/) resource."
   ]
  },
  {
   "cell_type": "code",
   "execution_count": null,
   "metadata": {},
   "outputs": [],
   "source": [
    "# Transform new_user_recommendations_RDD into pairs of the form (Movie ID, Predicted Rating)\n",
    "newRecRatingRDD = None\n",
    "newRecRatingTitleCountRDD = None"
   ]
  },
  {
   "cell_type": "markdown",
   "metadata": {},
   "source": [
    "We can now simplify the the above to only include **(title, ratings, count)** and transform as a new RDD containing new ratings for unrated movies."
   ]
  },
  {
   "cell_type": "code",
   "execution_count": null,
   "metadata": {},
   "outputs": [],
   "source": [
    "newRecRatingTitleCountFlatRDD = None\n",
    "\n",
    "# [('Rubber (2010)', 4.715666341687083, 1),\n",
    "#  ('Proof (1991)', 3.9517041049162795, 1),\n",
    "#  ('Under Siege 2: Dark Territory (1995)', 3.118223921273012, 31)]"
   ]
  },
  {
   "cell_type": "markdown",
   "metadata": {},
   "source": [
    "FINALLY, we can get highest rated recommended movies for the new user, filtering out movies with less than 50 ratings (try changing this value).\n",
    "For this we need to do following: \n",
    "\n",
    "* Use `.filter()` to include only the movies with more than 50 ratings in `recommendations`.\n",
    "* Use `.takeordered()` to get top 10 recommendations"
   ]
  },
  {
   "cell_type": "code",
   "execution_count": null,
   "metadata": {},
   "outputs": [],
   "source": [
    "recommendationms = None\n",
    "top10MoviesOrdered = None\n",
    "\n",
    "\n",
    "# TOP recommended movies (with more than 50 reviews):\n",
    "# ('\"Shawshank Redemption', 5.447804190989062, 311)\n",
    "# ('V for Vendetta (2006)', 5.432833918216835, 73)\n",
    "# ('Harry Potter and the Goblet of Fire (2005)', 5.424466636277112, 59)\n",
    "# ('Life Is Beautiful (La Vita è bella) (1997)', 5.384201632659801, 99)\n",
    "# ('\"Lock', 5.380165378272083, 74)\n",
    "# ('Forrest Gump (1994)', 5.337304995573618, 341)\n",
    "# ('\"Princess Bride', 5.328423741235671, 163)\n",
    "# ('Good Will Hunting (1997)', 5.301483354034365, 157)\n",
    "# ('\"Breakfast Club', 5.234274895183267, 117)\n",
    "# ('Slumdog Millionaire (2008)', 5.227081955573315, 52)"
   ]
  },
  {
   "cell_type": "markdown",
   "metadata": {},
   "source": [
    "Similarly, we can also check bottom 10 movies with lowest ratings with `.takeOrdered()`"
   ]
  },
  {
   "cell_type": "code",
   "execution_count": null,
   "metadata": {},
   "outputs": [],
   "source": [
    "bottom10MoviesOrdered = None\n",
    "\n",
    "# Lowest recommended movies (with more than 50 reviews):\n",
    "# ('Beverly Hills Cop III (1994)', 2.423247696283056, 57)\n",
    "# ('\"Blair Witch Project', 2.456475591917372, 86)\n",
    "# ('Bowfinger (1999)', 2.495144318199298, 51)\n",
    "# ('\"Cable Guy', 2.633730093117032, 59)\n",
    "# ('Congo (1995)', 2.784807232020519, 63)\n",
    "# ('Species (1995)', 2.831861058132409, 55)\n",
    "# ('Judge Dredd (1995)', 2.8391230652113846, 70)\n",
    "# ('Mighty Aphrodite (1995)', 2.845570668091761, 51)\n",
    "# ('Casper (1995)', 2.855333652701143, 58)\n",
    "# ('Executive Decision (1996)', 3.0047635050446324, 61)"
   ]
  },
  {
   "cell_type": "markdown",
   "metadata": {},
   "source": [
    "So here we have it. Our recommendation system is generating quite meaningful results with top 10 movies. A qualitative and subjective assessment shows top 10 movies are generally with a comedy/family/romance themes while the bottom 10 movies include some sci-fi/horror/action movies. \n",
    "\n",
    "## Next Steps\n",
    "\n",
    "* Remember these results are only based on a subset of data. Run the code with complete dataset in a similar fashion and discuss the improvement and predictive performance through RMSE, as well as subjective evaluations based on your personal preferences / taste in movies. \n",
    "\n",
    "* Use movie genres/IMDB ratings found in large dataset as extra features for the model and inspect the improvement in model behaviour. \n",
    "\n",
    "#### Take it to the next level\n",
    "* Use IMDB links to scrap user reviews from IMDB and using basic NLP techniques, create extra embeddings for ALS model. \n"
   ]
  },
  {
   "cell_type": "markdown",
   "metadata": {},
   "source": [
    "\n",
    "---\n",
    "\n",
    "## Summary\n",
    "\n",
    "In this lab, we learnt how to build a model using Spark, how to perform some parameter selection using a reduced dataset, and how to update the model every time that new user preferences come in. We looked at how Spark's ALS implementation can be be used to build a scalable and efficient reommendation system. We also saw that such systems can become computationaly expensive and using them with an online system could be a problem with traditional computational platforms. Spark's disctributed computing architecture provides a great solution to deploy such recommendation systems for real worls applications (think Amazon, Spotify)."
   ]
  }
 ],
 "metadata": {
  "kernelspec": {
   "display_name": "Python 3",
   "language": "python",
   "name": "python3"
  },
  "language_info": {
   "codemirror_mode": {
    "name": "ipython",
    "version": 3
   },
   "file_extension": ".py",
   "mimetype": "text/x-python",
   "name": "python",
   "nbconvert_exporter": "python",
   "pygments_lexer": "ipython3",
   "version": "3.6.4"
  }
 },
 "nbformat": 4,
 "nbformat_minor": 2
}
